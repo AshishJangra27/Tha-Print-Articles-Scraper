{
 "cells": [
  {
   "cell_type": "code",
   "execution_count": 125,
   "id": "59e32b46",
   "metadata": {},
   "outputs": [],
   "source": [
    "import os\n",
    "import requests\n",
    "import numpy as np\n",
    "from tqdm import tqdm\n",
    "from bs4 import BeautifulSoup\n",
    "\n",
    "catergories={ \"Politics\"  : 'https://theprint.in/category/politics/',\n",
    "              \"Economy\"   : 'https://theprint.in/category/economy/',\n",
    "              \"Defense\"   : 'https://theprint.in/category/defence/',\n",
    "              \"India\"     : 'https://theprint.in/category/india/',\n",
    "              \"Health\"    : 'https://theprint.in/category/health/',\n",
    "              \"Science\"   : 'https://theprint.in/category/science/',\n",
    "              \"Tech\"      : 'https://theprint.in/category/tech/'}"
   ]
  },
  {
   "cell_type": "code",
   "execution_count": 126,
   "id": "2340cba9",
   "metadata": {
    "scrolled": true
   },
   "outputs": [
    {
     "name": "stdout",
     "output_type": "stream",
     "text": [
      "India\n"
     ]
    },
    {
     "name": "stderr",
     "output_type": "stream",
     "text": [
      "100%|██████████| 2238/2238 [51:17<00:00,  1.37s/it]  \n"
     ]
    }
   ],
   "source": [
    "for category in catergories.keys():                            # Going through each category\n",
    "\n",
    "    link   = catergories[category]                             # Take one Category at a time\n",
    "    r = requests.get(link)                                     # Accessing the Link of Category\n",
    "    soup = BeautifulSoup(r.text, 'html.parser')                # Creating the Soup for the Link\n",
    "\n",
    "    for i in soup.find_all('a', class_ = 'last'):              # Find total page numbers for that Category\n",
    "        pages = i.text.replace(\",\",'')                         # Replacing 2,456 with 2456 Page Numbers\n",
    "\n",
    "    fin = []\n",
    "    \n",
    "    print(category)\n",
    "    for i in tqdm(range(2,int(pages)+1)):                      # Going through each page for that category\n",
    "\n",
    "        lnk = link+\"/page\"+str(i)                              # Generating Page link\n",
    "\n",
    "        r = requests.get(lnk)                                  # Requesting that Page Link\n",
    "        soup = BeautifulSoup(r.text, 'html.parser')            # Creating Soup for that Link\n",
    "\n",
    "                                                               # Finding each blog Title and Link\n",
    "        for i in soup.find_all('div', class_ = 'td_module_11 td_module_wrap td-animation-stack'):\n",
    "            fin.append([i.find('a').get('title'), i.find('a').get('href')])\n",
    "\n",
    "    fin = np.array(fin)                                        # Feed blog titles and links in Array Format \n",
    "    np.save(category+\".npy\",fin)                               # Saving Titles and Links in Array Offline for each Category"
   ]
  }
 ],
 "metadata": {
  "kernelspec": {
   "display_name": "Python 3 (ipykernel)",
   "language": "python",
   "name": "python3"
  },
  "language_info": {
   "codemirror_mode": {
    "name": "ipython",
    "version": 3
   },
   "file_extension": ".py",
   "mimetype": "text/x-python",
   "name": "python",
   "nbconvert_exporter": "python",
   "pygments_lexer": "ipython3",
   "version": "3.9.7"
  }
 },
 "nbformat": 4,
 "nbformat_minor": 5
}
