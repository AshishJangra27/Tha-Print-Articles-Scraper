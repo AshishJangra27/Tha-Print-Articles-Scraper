{
 "cells": [
  {
   "cell_type": "code",
   "execution_count": 1,
   "id": "149960bd",
   "metadata": {},
   "outputs": [],
   "source": [
    "import os\n",
    "import sys\n",
    "import requests\n",
    "import numpy as np\n",
    "from tqdm import tqdm\n",
    "from bs4 import BeautifulSoup"
   ]
  },
  {
   "cell_type": "code",
   "execution_count": 2,
   "id": "43b6ace6",
   "metadata": {
    "scrolled": false
   },
   "outputs": [
    {
     "name": "stdout",
     "output_type": "stream",
     "text": [
      "India.npy\n"
     ]
    },
    {
     "name": "stderr",
     "output_type": "stream",
     "text": [
      "100%|██████████| 22360/22360 [3:50:25<00:00,  1.62it/s]   \n"
     ]
    },
    {
     "name": "stdout",
     "output_type": "stream",
     "text": [
      "Politics.npy\n"
     ]
    },
    {
     "name": "stderr",
     "output_type": "stream",
     "text": [
      "100%|██████████| 8534/8534 [2:15:11<00:00,  1.05it/s]  \n"
     ]
    },
    {
     "name": "stdout",
     "output_type": "stream",
     "text": [
      "Science.npy\n"
     ]
    },
    {
     "name": "stderr",
     "output_type": "stream",
     "text": [
      "100%|██████████| 1327/1327 [24:09<00:00,  1.09s/it]\n"
     ]
    },
    {
     "name": "stdout",
     "output_type": "stream",
     "text": [
      "Tech.npy\n"
     ]
    },
    {
     "name": "stderr",
     "output_type": "stream",
     "text": [
      "100%|██████████| 1076/1076 [15:47<00:00,  1.14it/s]\n"
     ]
    }
   ],
   "source": [
    "links_file = []\n",
    "\n",
    "for files in os.listdir('npy'):\n",
    "    if (files.split('.')[-1] == 'npy'):\n",
    "        data = np.load('npy/'+files)\n",
    "                \n",
    "        print(files)\n",
    "        for i in tqdm(data):\n",
    "            title = i[0]\n",
    "            link  = i[1]\n",
    "            \n",
    "            r = requests.get(link)            \n",
    "            soup = BeautifulSoup(r.text, 'html.parser')\n",
    "            \n",
    "            try:\n",
    "                corp = soup.find('div', class_ = \"td-ss-main-content\").find_all('p', class_ = '')[:-8]\n",
    "            \n",
    "                article = ''\n",
    "                for txt in corp:\n",
    "                    article += txt.text + '\\n'\n",
    "                try:\n",
    "                    fd = open('articles/' + i[1].split('/')[-2]+'.txt','a')\n",
    "                    fd.write(article)\n",
    "                    fd.close()\n",
    "                    links_file.append([i[1].split('/')[-2],i[0],files.split('.')[0],i[1]])\n",
    "                except:\n",
    "                    pass\n",
    "            except:\n",
    "                pass\n",
    "            \n",
    "        links_file = np.array(links_file)\n",
    "        np.save(files.split('.')[0]+\"_Pr.npy\",links_file)"
   ]
  }
 ],
 "metadata": {
  "kernelspec": {
   "display_name": "Python 3 (ipykernel)",
   "language": "python",
   "name": "python3"
  },
  "language_info": {
   "codemirror_mode": {
    "name": "ipython",
    "version": 3
   },
   "file_extension": ".py",
   "mimetype": "text/x-python",
   "name": "python",
   "nbconvert_exporter": "python",
   "pygments_lexer": "ipython3",
   "version": "3.9.7"
  }
 },
 "nbformat": 4,
 "nbformat_minor": 5
}
